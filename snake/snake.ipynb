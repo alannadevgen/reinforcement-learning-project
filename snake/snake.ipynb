{
 "cells": [
  {
   "attachments": {},
   "cell_type": "markdown",
   "metadata": {},
   "source": [
    "# Snake\n",
    "This is an improved version of the snake game that uses the principles of reinforcement learning."
   ]
  },
  {
   "cell_type": "code",
   "execution_count": 2,
   "metadata": {},
   "outputs": [],
   "source": [
    "#import pandas as pd\n",
    "#import numpy as np\n",
    "import random "
   ]
  },
  {
   "cell_type": "code",
   "execution_count": 3,
   "metadata": {},
   "outputs": [],
   "source": [
    "score = 0\n",
    "\n",
    "grid = {\n",
    "    \"x\":20, # length x axis of grid\n",
    "    \"y\":20 # length y axis of grid\n",
    "}\n",
    "\n",
    "snake = {\n",
    "    \"x\":random.randrange(1,grid[\"x\"]), # head position on x axis\n",
    "    \"y\":random.randrange(1,grid[\"y\"]), # head position on y axis\n",
    "    \"length\" : 1,\n",
    "    \"positions\" : [], # positions of all of its individual pixels\n",
    "    \"direction\":\"RIGHT\",\n",
    "    \"is_crashed\" : False\n",
    "}\n",
    "\n",
    "fruit = {\n",
    "    \"x\":random.randrange(1,grid[\"x\"]),\n",
    "    \"y\":random.randrange(1,grid[\"y\"])\n",
    "}"
   ]
  },
  {
   "cell_type": "code",
   "execution_count": 10,
   "metadata": {},
   "outputs": [],
   "source": [
    "def snake_crashed():\n",
    "        if snake[\"x\"]==grid[\"x\"]+1 or snake[\"y\"]==grid[\"y\"]+1 or snake[\"x\"]<1 or snake[\"y\"]<1 or len(grid[\"positions\"]) != len(set(grid[\"positions\"])):\n",
    "            snake[\"is_crashed\"]=True"
   ]
  },
  {
   "cell_type": "code",
   "execution_count": null,
   "metadata": {},
   "outputs": [],
   "source": [
    "def snake_eat_fruit():\n",
    "    if snake[\"x\"]==fruit[\"x\"] and snake[\"y\"]==fruit[\"y\"]:\n",
    "        score+=1\n",
    "        snake[\"length\"]+=1\n",
    "        fruit[\"x\"]==random.randrange(1,grid[\"x\"])\n",
    "        fruit[\"y\"]==random.randrange(1,grid[\"y\"])"
   ]
  },
  {
   "cell_type": "code",
   "execution_count": null,
   "metadata": {},
   "outputs": [],
   "source": [
    "def change_snake_position(change_to=\"RIGHT\"):\n",
    "   \n",
    " \n",
    "    # Snake cannot suddenly change direction into its body\n",
    "    if change_to == 'UP' and snake[\"direction\"] != 'DOWN':\n",
    "        snake[\"direction\"] = 'UP'\n",
    "    if change_to == 'DOWN' and snake[\"direction\"] != 'UP':\n",
    "        snake[\"direction\"] = 'DOWN'\n",
    "    if change_to == 'LEFT' and snake[\"direction\"] != 'RIGHT':\n",
    "        snake[\"direction\"] = 'LEFT'\n",
    "    if change_to == 'RIGHT' and snake[\"direction\"] != 'LEFT':\n",
    "        snake[\"direction\"] = 'RIGHT'\n",
    "\n",
    "    if snake[\"direction\"]==\"UP\":\n",
    "        snake[\"y\"]=snake[\"y\"]+1\n",
    "    if snake[\"direction\"]==\"DOWN\":\n",
    "        snake[\"y\"]=snake[\"y\"]-1\n",
    "    if snake[\"direction\"]==\"RIGHT\":\n",
    "        snake[\"x\"]=snake[\"x\"]+1\n",
    "    if snake[\"direction\"]==\"LEFT\":\n",
    "        snake[\"x\"]=snake[\"x\"]-1"
   ]
  }
 ],
 "metadata": {
  "kernelspec": {
   "display_name": "Python 3",
   "language": "python",
   "name": "python3"
  },
  "language_info": {
   "codemirror_mode": {
    "name": "ipython",
    "version": 3
   },
   "file_extension": ".py",
   "mimetype": "text/x-python",
   "name": "python",
   "nbconvert_exporter": "python",
   "pygments_lexer": "ipython3",
   "version": "3.10.11"
  },
  "orig_nbformat": 4
 },
 "nbformat": 4,
 "nbformat_minor": 2
}
