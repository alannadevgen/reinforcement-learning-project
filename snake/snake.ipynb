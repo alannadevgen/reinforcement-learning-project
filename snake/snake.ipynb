{
 "cells": [
  {
   "attachments": {},
   "cell_type": "markdown",
   "metadata": {},
   "source": [
    "# Snake\n",
    "This is an improved version of the snake game that uses the principles of reinforcement learning."
   ]
  },
  {
   "cell_type": "code",
   "execution_count": 9,
   "metadata": {},
   "outputs": [],
   "source": [
    "import pandas as pd\n",
    "import numpy as np"
   ]
  },
  {
   "cell_type": "code",
   "execution_count": 1,
   "metadata": {},
   "outputs": [],
   "source": [
    "grid = {\n",
    "    \"x\":2,\n",
    "    \"y\":2\n",
    "}\n",
    "\n",
    "snake = {\n",
    "    \"x\":1, # head position on x axis\n",
    "    \"y\":1, # head position on y axis\n",
    "    \"length\" : 1,\n",
    "    \"positions\" : [], # positions of all of its individual pixels\n",
    "    \"is_crashed\" : False\n",
    "}\n",
    "\n",
    "fruit = {\n",
    "    \"x\":0,\n",
    "    \"y\":0\n",
    "}"
   ]
  },
  {
   "cell_type": "code",
   "execution_count": 10,
   "metadata": {},
   "outputs": [],
   "source": [
    "def snake_crashed():\n",
    "        if snake[\"x\"]==grid[\"x\"]+1 or snake[\"y\"]==grid[\"y\"]+1 or len(grid[\"positions\"]) != len(set(grid[\"positions\"])):\n",
    "            snake[\"is_crashed\"]==True"
   ]
  }
 ],
 "metadata": {
  "kernelspec": {
   "display_name": "Python 3",
   "language": "python",
   "name": "python3"
  },
  "language_info": {
   "codemirror_mode": {
    "name": "ipython",
    "version": 3
   },
   "file_extension": ".py",
   "mimetype": "text/x-python",
   "name": "python",
   "nbconvert_exporter": "python",
   "pygments_lexer": "ipython3",
   "version": "3.10.11"
  },
  "orig_nbformat": 4
 },
 "nbformat": 4,
 "nbformat_minor": 2
}
